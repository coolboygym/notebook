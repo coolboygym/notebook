{
 "cells": [
  {
   "cell_type": "code",
   "execution_count": 2,
   "metadata": {},
   "outputs": [
    {
     "name": "stdout",
     "output_type": "stream",
     "text": [
      "[['你好', '好的', '不错', '笨蛋'],\n ['笨蛋', '傻瓜', '傻子', '哈哈'],\n ['好的', '不错', '你好', '哈哈'],\n ['有趣', '可以', '好的', '不错', '还行'],\n ['傻瓜', '傻子', '二货', '还行'],\n ['可以', '好的', '不错', '哈哈'],\n ['有趣', '有趣', '哈哈', '哈哈']]\n"
     ]
    }
   ],
   "source": [
    "from gensim import corpora\n",
    "from pprint import pprint\n",
    "documents = [\"你好 好的 不错 笨蛋\",\n",
    "             \"笨蛋 傻瓜 傻子 哈哈\",\n",
    "             \"好的 不错 你好 哈哈\",\n",
    "             \"有趣 可以 好的 不错 还行\",\n",
    "             \"傻瓜 傻子 二货 还行\",\n",
    "             \"可以 好的 不错 哈哈\",\n",
    "             \"有趣 有趣 哈哈 哈哈\"]\n",
    "texts = [[word for word in document.split()] for document in documents]\n",
    "pprint(texts)"
   ]
  },
  {
   "cell_type": "code",
   "execution_count": 3,
   "metadata": {},
   "outputs": [
    {
     "name": "stdout",
     "output_type": "stream",
     "text": [
      "[['你好', '好的', '不错', '笨蛋'],\n ['笨蛋', '傻瓜', '傻子', '哈哈'],\n ['好的', '不错', '你好', '哈哈'],\n ['有趣', '可以', '好的', '不错', '还行'],\n ['傻瓜', '傻子', '还行'],\n ['可以', '好的', '不错', '哈哈'],\n ['有趣', '有趣', '哈哈', '哈哈']]\n"
     ]
    }
   ],
   "source": [
    "from collections import defaultdict\n",
    "frequency = defaultdict(int)\n",
    "for text in texts:\n",
    "    for token in text:\n",
    "        frequency[token] += 1\n",
    "texts = [[token for token in text if frequency[token] > 1] for text in texts]\n",
    "pprint(texts)"
   ]
  },
  {
   "cell_type": "code",
   "execution_count": 4,
   "metadata": {},
   "outputs": [
    {
     "name": "stdout",
     "output_type": "stream",
     "text": [
      "Dictionary(10 unique tokens: ['不错', '你好', '好的', '笨蛋', '傻子']...)\n"
     ]
    }
   ],
   "source": [
    "dictionary = corpora.Dictionary(texts)\n",
    "dictionary.save('sample.dict')\n",
    "print(dictionary)"
   ]
  },
  {
   "cell_type": "code",
   "execution_count": 5,
   "metadata": {},
   "outputs": [
    {
     "name": "stdout",
     "output_type": "stream",
     "text": [
      "[[(0, 1), (1, 1), (2, 1), (3, 1)],\n [(3, 1), (4, 1), (5, 1), (6, 1)],\n [(0, 1), (1, 1), (2, 1), (6, 1)],\n [(0, 1), (2, 1), (7, 1), (8, 1), (9, 1)],\n [(4, 1), (5, 1), (9, 1)],\n [(0, 1), (2, 1), (6, 1), (7, 1)],\n [(6, 2), (8, 2)]]\n"
     ]
    }
   ],
   "source": [
    "corpus = [dictionary.doc2bow(text) for text in texts]\n",
    "corpora.MmCorpus.serialize('sample.mm', corpus)\n",
    "pprint(corpus)"
   ]
  },
  {
   "cell_type": "code",
   "execution_count": 6,
   "metadata": {},
   "outputs": [
    {
     "name": "stdout",
     "output_type": "stream",
     "text": [
      "[(0, 0.3011997233053068), (5, 0.6742695034927825), (7, 0.6742695034927825)]\n"
     ]
    }
   ],
   "source": [
    "from gensim import models, similarities\n",
    "tf_idf = models.TfidfModel(corpus)\n",
    "vec = [(0, 1), (5, 1), (7, 1)]\n",
    "print(tf_idf[vec])"
   ]
  },
  {
   "cell_type": "code",
   "execution_count": 31,
   "metadata": {},
   "outputs": [
    {
     "name": "stdout",
     "output_type": "stream",
     "text": [
      "[0.17764111 0.5362396  0.18628117 0.13041778 0.3730879  0.26369086\n 0.        ]\n"
     ]
    }
   ],
   "source": [
    "index = similarities.SparseMatrixSimilarity(tf_idf[corpus], num_features=10)\n",
    "sims = index[tf_idf[vec]]\n",
    "print(sims)"
   ]
  },
  {
   "cell_type": "code",
   "execution_count": 33,
   "metadata": {},
   "outputs": [
    {
     "name": "stdout",
     "output_type": "stream",
     "text": [
      "[[1.         0.12707432 0.8971963  0.3687666  0.         0.7456068\n  0.        ]\n [0.12707432 1.         0.04964618 0.         0.58897054 0.05535543\n  0.05321141]\n [0.8971963  0.04964618 0.99999994 0.38670254 0.         0.8478415\n  0.06341496]\n [0.3687666  0.         0.38670254 1.         0.55752987 0.45820582\n  0.47954306]\n [0.         0.58897054 0.         0.55752987 1.         0.\n  0.        ]\n [0.7456068  0.05535543 0.8478415  0.45820582 0.         1.\n  0.0707076 ]\n [0.         0.05321141 0.06341496 0.47954306 0.         0.0707076\n  1.        ]]\n"
     ]
    }
   ],
   "source": [
    "print(index[tf_idf[corpus]])"
   ]
  },
  {
   "cell_type": "code",
   "execution_count": null,
   "metadata": {},
   "outputs": [],
   "source": [
    ""
   ]
  }
 ],
 "metadata": {
  "kernelspec": {
   "display_name": "Python 2",
   "language": "python",
   "name": "python2"
  },
  "language_info": {
   "codemirror_mode": {
    "name": "ipython",
    "version": 2.0
   },
   "file_extension": ".py",
   "mimetype": "text/x-python",
   "name": "python",
   "nbconvert_exporter": "python",
   "pygments_lexer": "ipython2",
   "version": "2.7.6"
  }
 },
 "nbformat": 4,
 "nbformat_minor": 0
}